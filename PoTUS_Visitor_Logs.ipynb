{
 "cells": [
  {
   "cell_type": "code",
   "execution_count": 1,
   "metadata": {},
   "outputs": [],
   "source": [
    "from csv import reader\n",
    "\n",
    "opened_file = open('potus_visitors_2015.csv', encoding = 'utf-8')\n",
    "read_file = reader(opened_file)\n",
    "potus = list(read_file)\n",
    "\n",
    "potus = potus[1:]"
   ]
  },
  {
   "cell_type": "code",
   "execution_count": 3,
   "metadata": {},
   "outputs": [
    {
     "name": "stdout",
     "output_type": "stream",
     "text": [
      "[['Joshua T. Blanton', '2014-12-18T00:00:00', datetime.datetime(2015, 1, 6, 9, 30), '1/6/2015 23:59', '', 'potus', 'west wing', 'JointService Military Honor Guard'], ['Jack T. Gutting', '2014-12-18T00:00:00', datetime.datetime(2015, 1, 6, 9, 30), '1/6/2015 23:59', '', 'potus', 'west wing', 'JointService Military Honor Guard'], ['Bradley T. Guiles', '2014-12-18T00:00:00', datetime.datetime(2015, 1, 6, 9, 30), '1/6/2015 23:59', '', 'potus', 'west wing', 'JointService Military Honor Guard'], ['Loryn F. Grieb', '2014-12-18T00:00:00', datetime.datetime(2015, 1, 6, 9, 30), '1/6/2015 23:59', '', 'potus', 'west wing', 'JointService Military Honor Guard'], ['Travis D. Gordon', '2014-12-18T00:00:00', datetime.datetime(2015, 1, 6, 9, 30), '1/6/2015 23:59', '', 'potus', 'west wing', 'JointService Military Honor Guard']]\n"
     ]
    }
   ],
   "source": [
    "## 1. Using Strptime to Parse Strings as Dates ##\n",
    "\n",
    "import datetime as dt\n",
    "\n",
    "date_format = \"%m/%d/%Y %H:%M\"\n",
    "for row in potus:\n",
    "    appt = row[2]\n",
    "    date = dt.datetime.strptime(appt, date_format)\n",
    "    row[2] = date\n",
    "    \n",
    "print(potus[:5])"
   ]
  },
  {
   "cell_type": "code",
   "execution_count": 4,
   "metadata": {},
   "outputs": [
    {
     "name": "stdout",
     "output_type": "stream",
     "text": [
      "{'January, 2015': 1248, 'February, 2015': 2165, 'March, 2015': 2262, 'April, 2015': 4996, 'May, 2015': 3013, 'June, 2015': 7743, 'July, 2015': 2930, 'August, 2015': 1350, 'September, 2015': 4416, 'October, 2015': 3669, 'November, 2015': 1133, 'December, 2015': 13029}\n"
     ]
    }
   ],
   "source": [
    "## 2. Using Strftime to format dates ##\n",
    "\n",
    "visitors_per_month = {}\n",
    "\n",
    "for row in potus:\n",
    "    appt = row[2]\n",
    "    date = appt.strftime(\"%B, %Y\")\n",
    "    \n",
    "    if date not in visitors_per_month:\n",
    "        visitors_per_month[date] = 1\n",
    "    else:\n",
    "        visitors_per_month[date] += 1\n",
    "        \n",
    "print(visitors_per_month)"
   ]
  },
  {
   "cell_type": "code",
   "execution_count": 6,
   "metadata": {},
   "outputs": [
    {
     "name": "stdout",
     "output_type": "stream",
     "text": [
      "2:29:00\n",
      "16 days, 12:59:00\n"
     ]
    }
   ],
   "source": [
    "## 3. Summarizing Appointment Lengths ##\n",
    "\n",
    "appt_times = []\n",
    "\n",
    "for row in potus:\n",
    "    appt = row[2]\n",
    "    time = appt.time()\n",
    "    appt_times.append(time)\n",
    "\n",
    "\n",
    "appt_lengths = {}\n",
    "\n",
    "for row in potus:\n",
    "    end_date = row[3]\n",
    "    end_date = dt.datetime.strptime(end_date, \"%m/%d/%Y %H:%M\")\n",
    "    row[3] = end_date\n",
    "    \n",
    "for row in potus:\n",
    "    start = row[2]\n",
    "    end = row[3]\n",
    "    length = end - start\n",
    "    \n",
    "    if length in appt_lengths:\n",
    "        appt_lengths[length] += 1\n",
    "    else:\n",
    "        appt_lengths[length] = 1\n",
    "        \n",
    "min_length = min(appt_lengths)\n",
    "max_length = max(appt_lengths)\n",
    "print(min_length)\n",
    "print(max_length)"
   ]
  }
 ],
 "metadata": {
  "kernelspec": {
   "display_name": "Python 3",
   "language": "python",
   "name": "python3"
  },
  "language_info": {
   "codemirror_mode": {
    "name": "ipython",
    "version": 3
   },
   "file_extension": ".py",
   "mimetype": "text/x-python",
   "name": "python",
   "nbconvert_exporter": "python",
   "pygments_lexer": "ipython3",
   "version": "3.7.3"
  }
 },
 "nbformat": 4,
 "nbformat_minor": 2
}
